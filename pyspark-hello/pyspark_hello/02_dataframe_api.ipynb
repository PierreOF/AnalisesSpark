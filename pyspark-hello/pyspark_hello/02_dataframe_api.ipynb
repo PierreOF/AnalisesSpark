{
 "cells": [
  {
   "cell_type": "code",
   "execution_count": 1,
   "id": "cfb3b5d6-e3e1-4086-85f9-b2cac0bf33bd",
   "metadata": {},
   "outputs": [],
   "source": [
    "from pyspark.sql import SparkSession\n",
    "from pyspark.sql import functions as F"
   ]
  },
  {
   "cell_type": "code",
   "execution_count": 2,
   "id": "9ee8f4ae-dbeb-4cd8-8eaf-8b8ecde09d63",
   "metadata": {},
   "outputs": [
    {
     "name": "stderr",
     "output_type": "stream",
     "text": [
      "WARNING: Using incubator modules: jdk.incubator.vector\n",
      "Using Spark's default log4j profile: org/apache/spark/log4j2-defaults.properties\n",
      "Setting default log level to \"WARN\".\n",
      "To adjust logging level use sc.setLogLevel(newLevel). For SparkR, use setLogLevel(newLevel).\n",
      "25/06/04 11:33:23 WARN NativeCodeLoader: Unable to load native-hadoop library for your platform... using builtin-java classes where applicable\n",
      "25/06/04 11:33:23 WARN Utils: Service 'SparkUI' could not bind on port 4040. Attempting port 4041.\n"
     ]
    }
   ],
   "source": [
    "spark = ( \n",
    " SparkSession\n",
    " .builder\n",
    "    .master(\"local[*]\")\n",
    " .appName('spark_dataframe_api')\n",
    " .getOrCreate()\n",
    ")"
   ]
  },
  {
   "cell_type": "code",
   "execution_count": 4,
   "id": "5559a23b-d512-4f35-9de3-47db164fb286",
   "metadata": {},
   "outputs": [],
   "source": [
    "df = (\n",
    "    spark\n",
    "    .read\n",
    "    .option('delimiter', ';')\n",
    "    .option('header', 'true')\n",
    "    .option('inferSchema', 'true')\n",
    "    .option('enconding', 'ISO-8859-1')\n",
    "    .csv('./dados/precos-gasolina-etanol-04.csv')\n",
    ")"
   ]
  },
  {
   "cell_type": "code",
   "execution_count": 5,
   "id": "2c2c5d24-8df1-433b-9c16-3fb288f10215",
   "metadata": {},
   "outputs": [
    {
     "name": "stdout",
     "output_type": "stream",
     "text": [
      "root\n",
      " |-- Regiao - Sigla: string (nullable = true)\n",
      " |-- Estado - Sigla: string (nullable = true)\n",
      " |-- Municipio: string (nullable = true)\n",
      " |-- Revenda: string (nullable = true)\n",
      " |-- CNPJ da Revenda: string (nullable = true)\n",
      " |-- Nome da Rua: string (nullable = true)\n",
      " |-- Numero Rua: string (nullable = true)\n",
      " |-- Complemento: string (nullable = true)\n",
      " |-- Bairro: string (nullable = true)\n",
      " |-- Cep: string (nullable = true)\n",
      " |-- Produto: string (nullable = true)\n",
      " |-- Data da Coleta: string (nullable = true)\n",
      " |-- Valor de Venda: string (nullable = true)\n",
      " |-- Valor de Compra: string (nullable = true)\n",
      " |-- Unidade de Medida: string (nullable = true)\n",
      " |-- Bandeira: string (nullable = true)\n",
      "\n"
     ]
    }
   ],
   "source": [
    "df.printSchema()"
   ]
  },
  {
   "cell_type": "code",
   "execution_count": 7,
   "id": "b30fc357-836c-4c54-9dac-cbaf4b4724d8",
   "metadata": {},
   "outputs": [],
   "source": [
    "df_precos = (\n",
    "    df\n",
    "    .select('Estado - Sigla', 'Produto', 'Valor de Venda', 'Unidade de Medida')\n",
    "    .withColumn(\n",
    "        \"Valor de Venda\",\n",
    "        F.regexp_replace(F.col(\"Valor de Venda\"), \",\", \".\")\n",
    "        .cast(\"float\")\n",
    "    )\n",
    ")"
   ]
  },
  {
   "cell_type": "code",
   "execution_count": 9,
   "id": "1ceb8666-e743-4138-9301-b4d2da4a7c65",
   "metadata": {},
   "outputs": [
    {
     "name": "stdout",
     "output_type": "stream",
     "text": [
      "+--------------+--------+--------------+-----------------+\n",
      "|Estado - Sigla| Produto|Valor de Venda|Unidade de Medida|\n",
      "+--------------+--------+--------------+-----------------+\n",
      "|            SP|GASOLINA|          5.65|       R$ / litro|\n",
      "|            SP|  ETANOL|          3.78|       R$ / litro|\n",
      "|            BA|GASOLINA|          6.79|       R$ / litro|\n",
      "|            BA|  ETANOL|          4.89|       R$ / litro|\n",
      "|            BA|GASOLINA|          6.75|       R$ / litro|\n",
      "+--------------+--------+--------------+-----------------+\n",
      "only showing top 5 rows\n"
     ]
    }
   ],
   "source": [
    "df_precos.show(5)"
   ]
  },
  {
   "cell_type": "code",
   "execution_count": 8,
   "id": "64bd4421-ff38-489a-924d-058f1b4413bd",
   "metadata": {},
   "outputs": [
    {
     "name": "stdout",
     "output_type": "stream",
     "text": [
      "+--------------+-------+--------------+-----------------+\n",
      "|Estado - Sigla|Produto|Valor de Venda|Unidade de Medida|\n",
      "+--------------+-------+--------------+-----------------+\n",
      "+--------------+-------+--------------+-----------------+\n",
      "\n"
     ]
    }
   ],
   "source": [
    "(\n",
    "    df_precos\n",
    "    .where(\n",
    "        F.col('Valor de Compra').isNotNull()\n",
    "    )\n",
    "    .show()\n",
    ")"
   ]
  },
  {
   "cell_type": "code",
   "execution_count": 10,
   "id": "11cf5293-0983-4a77-baf7-8f7f89fe087a",
   "metadata": {},
   "outputs": [],
   "source": [
    "df_precos = (\n",
    "    df\n",
    "    .select('Estado - Sigla', 'Produto', 'Valor de Venda', 'Unidade de Medida')\n",
    "    .withColumn(\n",
    "        \"Valor de Venda\",\n",
    "        F.regexp_replace(F.col(\"Valor de Venda\"), \",\", \".\")\n",
    "        .cast(\"float\")\n",
    "    )\n",
    ")"
   ]
  },
  {
   "cell_type": "code",
   "execution_count": 11,
   "id": "913c48f1-0413-4b33-9c0d-475865138387",
   "metadata": {},
   "outputs": [],
   "source": [
    "df_precos_analise = (\n",
    "    df_precos\n",
    "    .groupBy(\n",
    "        F.col('Estado - Sigla'),\n",
    "        F.col('Produto'),\n",
    "        F.col('Unidade de Medida')\n",
    "    )\n",
    "    .agg(\n",
    "        F.min(F.col(\"Valor de Venda\")).alias('menor_valor'),\n",
    "        F.max(F.col(\"Valor de Venda\")).alias('maior_valor')\n",
    "    )\n",
    "    .withColumn(\n",
    "        \"diferenca\",\n",
    "        F.col('maior_valor') - F.col('menor_valor')\n",
    "    )\n",
    "    .orderBy('diferenca', ascending=False)\n",
    ")"
   ]
  },
  {
   "cell_type": "code",
   "execution_count": 12,
   "id": "98497d19-73f6-4902-bffa-0aaedc9c5c55",
   "metadata": {},
   "outputs": [
    {
     "name": "stdout",
     "output_type": "stream",
     "text": [
      "+--------------+------------------+-----------------+-----------+-----------+---------+\n",
      "|Estado - Sigla|           Produto|Unidade de Medida|menor_valor|maior_valor|diferenca|\n",
      "+--------------+------------------+-----------------+-----------+-----------+---------+\n",
      "|            SP|          GASOLINA|       R$ / litro|       5.19|       8.99|3.7999997|\n",
      "|            SP|GASOLINA ADITIVADA|       R$ / litro|       5.19|       8.99|3.7999997|\n",
      "|            SP|            ETANOL|       R$ / litro|       3.38|       6.27|2.8899999|\n",
      "|            PE|            ETANOL|       R$ / litro|       3.99|       6.49|2.4999998|\n",
      "|            RJ|          GASOLINA|       R$ / litro|       5.46|       7.79|     2.33|\n",
      "|            SC|            ETANOL|       R$ / litro|       4.37|       6.68|     2.31|\n",
      "|            RJ|GASOLINA ADITIVADA|       R$ / litro|       5.69|       7.99|2.2999997|\n",
      "|            PR|            ETANOL|       R$ / litro|       3.45|       5.59|     2.14|\n",
      "|            PE|          GASOLINA|       R$ / litro|       5.49|       7.59|2.1000004|\n",
      "|            RS|GASOLINA ADITIVADA|       R$ / litro|       5.59|       7.69|      2.1|\n",
      "+--------------+------------------+-----------------+-----------+-----------+---------+\n",
      "only showing top 10 rows\n"
     ]
    }
   ],
   "source": [
    "df_precos_analise.show(10)\n"
   ]
  }
 ],
 "metadata": {
  "kernelspec": {
   "display_name": "Python 3 (ipykernel)",
   "language": "python",
   "name": "python3"
  },
  "language_info": {
   "codemirror_mode": {
    "name": "ipython",
    "version": 3
   },
   "file_extension": ".py",
   "mimetype": "text/x-python",
   "name": "python",
   "nbconvert_exporter": "python",
   "pygments_lexer": "ipython3",
   "version": "3.13.2"
  }
 },
 "nbformat": 4,
 "nbformat_minor": 5
}
