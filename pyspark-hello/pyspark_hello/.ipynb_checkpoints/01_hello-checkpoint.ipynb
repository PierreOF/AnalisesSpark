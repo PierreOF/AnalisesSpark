{
 "cells": [
  {
   "cell_type": "code",
   "execution_count": null,
   "id": "d819e68f-8702-421b-97a4-cc1b45961a79",
   "metadata": {},
   "outputs": [],
   "source": [
    "from pyspark.sql.types import StructType,StructField,StringType,IntegerType\n",
    "from pyspark.sql import SparkSession"
   ]
  },
  {
   "cell_type": "code",
   "execution_count": null,
   "id": "ae134d8b-eaaf-4f0e-a795-1f17e0f88265",
   "metadata": {},
   "outputs": [],
   "source": [
    "# INICIAR SECAO SPARK\n",
    "spark = (\n",
    "    SparkSession\n",
    "    .builder\n",
    "    .master('local[*]')\n",
    "    .appName('teste')\n",
    "    .getOrCreate(\n",
    ")"
   ]
  },
  {
   "cell_type": "code",
   "execution_count": null,
   "id": "8e828bc4-78bc-457e-a49d-9ab5597bb87d",
   "metadata": {},
   "outputs": [],
   "source": [
    "# DEFINIR DADOS\n",
    "\n",
    "data = [\n",
    "    (\"James\",\"\",\"Smith\",\"36636\",\"M\",3000),\n",
    "    (\"Michael\",\"Rose\",\"\",\"40288\",\"M\",4000),\n",
    "    (\"Robert\",\"\",\"Williams\",\"42114\",\"M\",4000),\n",
    "    (\"Maria\",\"Anne\",\"Jones\",\"39192\",\"F\",4000),\n",
    "    (\"Jen\",\"Mary\",\"Brow\",\"\",\"F\",-1)\n",
    "]"
   ]
  },
  {
   "cell_type": "code",
   "execution_count": null,
   "id": "b2891c38-a2f4-44c9-8cd9-50241d853930",
   "metadata": {},
   "outputs": [],
   "source": [
    "# DEFINIR SCHEMA\n",
    "\n",
    "schema = (\n",
    "    StructType([\n",
    "        StructField(\"firstname\",StringType(),true),\n",
    "        StructField(\"middlename\",StringType(),true),\n",
    "        StructField(\"lastname\",StringType(),true),\n",
    "        StructField(\"id\",StringType(),true),\n",
    "        StructField(\"gender\",StringType(),true),\n",
    "        StructField(\"salary\",IntegerType(),true),\n",
    "    ])\n",
    ")"
   ]
  },
  {
   "cell_type": "code",
   "execution_count": null,
   "id": "41868c99-034b-44c9-aff0-a2f1a2370d9e",
   "metadata": {},
   "outputs": [],
   "source": []
  }
 ],
 "metadata": {
  "kernelspec": {
   "display_name": "Python 3 (ipykernel)",
   "language": "python",
   "name": "python3"
  },
  "language_info": {
   "codemirror_mode": {
    "name": "ipython",
    "version": 3
   },
   "file_extension": ".py",
   "mimetype": "text/x-python",
   "name": "python",
   "nbconvert_exporter": "python",
   "pygments_lexer": "ipython3",
   "version": "3.13.2"
  }
 },
 "nbformat": 4,
 "nbformat_minor": 5
}
